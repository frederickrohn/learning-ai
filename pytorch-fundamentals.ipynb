{
 "cells": [
  {
   "cell_type": "code",
   "execution_count": 2,
   "metadata": {},
   "outputs": [
    {
     "name": "stdout",
     "output_type": "stream",
     "text": [
      "tensor([[[0.3572, 0.7988],\n",
      "         [0.8031, 0.6855],\n",
      "         [0.5933, 0.4272]],\n",
      "\n",
      "        [[0.3962, 0.4648],\n",
      "         [0.8030, 0.8706],\n",
      "         [0.6400, 0.3019]],\n",
      "\n",
      "        [[0.5260, 0.5805],\n",
      "         [0.2401, 0.6582],\n",
      "         [0.8747, 0.3347]],\n",
      "\n",
      "        [[0.2344, 0.7701],\n",
      "         [0.8131, 0.2663],\n",
      "         [0.0386, 0.0294]],\n",
      "\n",
      "        [[0.0112, 0.0913],\n",
      "         [0.6588, 0.4464],\n",
      "         [0.0662, 0.7312]]])\n"
     ]
    }
   ],
   "source": [
    "#Testing that PyTorch installation worked\n",
    "\n",
    "import torch\n",
    "x = torch.rand(5, 3,2)\n",
    "print(x)"
   ]
  },
  {
   "cell_type": "code",
   "execution_count": null,
   "metadata": {},
   "outputs": [],
   "source": []
  }
 ],
 "metadata": {
  "kernelspec": {
   "display_name": "base",
   "language": "python",
   "name": "python3"
  },
  "language_info": {
   "codemirror_mode": {
    "name": "ipython",
    "version": 3
   },
   "file_extension": ".py",
   "mimetype": "text/x-python",
   "name": "python",
   "nbconvert_exporter": "python",
   "pygments_lexer": "ipython3",
   "version": "3.9.13"
  },
  "orig_nbformat": 4
 },
 "nbformat": 4,
 "nbformat_minor": 2
}
