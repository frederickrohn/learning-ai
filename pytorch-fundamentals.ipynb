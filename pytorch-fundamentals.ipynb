{
 "cells": [
  {
   "cell_type": "code",
   "execution_count": 2,
   "metadata": {},
   "outputs": [
    {
     "name": "stdout",
     "output_type": "stream",
     "text": [
      "tensor([[[0.3572, 0.7988],\n",
      "         [0.8031, 0.6855],\n",
      "         [0.5933, 0.4272]],\n",
      "\n",
      "        [[0.3962, 0.4648],\n",
      "         [0.8030, 0.8706],\n",
      "         [0.6400, 0.3019]],\n",
      "\n",
      "        [[0.5260, 0.5805],\n",
      "         [0.2401, 0.6582],\n",
      "         [0.8747, 0.3347]],\n",
      "\n",
      "        [[0.2344, 0.7701],\n",
      "         [0.8131, 0.2663],\n",
      "         [0.0386, 0.0294]],\n",
      "\n",
      "        [[0.0112, 0.0913],\n",
      "         [0.6588, 0.4464],\n",
      "         [0.0662, 0.7312]]])\n"
     ]
    }
   ],
   "source": [
    "#Testing that PyTorch installation worked\n",
    "\n",
    "import torch\n",
    "x = torch.rand(5, 3,2)\n",
    "print(x)"
   ]
  },
  {
   "cell_type": "code",
   "execution_count": 2,
   "metadata": {},
   "outputs": [
    {
     "name": "stdout",
     "output_type": "stream",
     "text": [
      "tensor([[[0.8533, 0.2788, 0.4509, 0.6202],\n",
      "         [0.2252, 0.8942, 0.0885, 0.6250],\n",
      "         [0.9649, 0.0143, 0.6016, 0.6849]],\n",
      "\n",
      "        [[0.6172, 0.1632, 0.6188, 0.3977],\n",
      "         [0.3237, 0.0819, 0.3450, 0.6866],\n",
      "         [0.1347, 0.4409, 0.2723, 0.0467]]])\n",
      "Shape of Tensor: torch.Size([2, 3, 4])\n",
      "Datatype of Tensor: torch.float32\n",
      "Device tesnor is stored on: cpu\n"
     ]
    }
   ],
   "source": [
    "#Creating a Random Tensor and finding information about it\n",
    "\n",
    "import torch\n",
    "\n",
    "some_tensor = torch.rand(2,3,4)\n",
    "\n",
    "print(some_tensor)\n",
    "\n",
    "print(f\"Shape of Tensor: {some_tensor.shape}\")\n",
    "\n",
    "print(f\"Datatype of Tensor: {some_tensor.dtype}\")\n",
    "\n",
    "print(f\"Device tensor is stored on: {some_tensor.device}\")\n",
    "\n",
    "#you can change the type that the tensor data is, that sometimes can be a problem when you operate on tensors of multiple data types\n",
    "#you can also make tensors filled with ones and zeros of the same shape as another tensor"
   ]
  },
  {
   "cell_type": "code",
   "execution_count": 9,
   "metadata": {},
   "outputs": [
    {
     "name": "stdout",
     "output_type": "stream",
     "text": [
      "torch.Size([2, 3]) torch.Size([3, 2])\n",
      "torch.Size([2, 2])\n",
      "tensor([[12, 13, 14],\n",
      "        [12, 13, 14]])\n"
     ]
    }
   ],
   "source": [
    "#Matrix Multiplication\n",
    "\n",
    "#pretty much everything in ML/AI is just some form of matrix manipulation, especially matrix multiplications (dot products)\n",
    "\n",
    "import torch\n",
    "\n",
    "tensor_one = torch.tensor([[2,3,4],[2,3,4]])\n",
    "tensor_two = torch.tensor([[1,2],[2,3],[3,4]])\n",
    "print(tensor_one.shape, tensor_two.shape)\n",
    "new_tensor = torch.matmul(tensor_one, tensor_two)\n",
    "print(new_tensor.shape)\n",
    "#to be able to do matrix multiplication on matrices, the inner values have to match, and the resulting matrix is takes the shape of the outside values\n",
    "\n",
    "#other operations are very simple\n",
    "t_one_modified = tensor_one + 10\n",
    "print(t_one_modified)\n",
    "\n",
    "#mismatched shapes are a common type of error in deep learning, and you can solve this by transposing\n"
   ]
  },
  {
   "cell_type": "code",
   "execution_count": 14,
   "metadata": {},
   "outputs": [
    {
     "name": "stdout",
     "output_type": "stream",
     "text": [
      "Input shape: torch.Size([3, 2])\n",
      "\n",
      "Output:\n",
      "tensor([[2.2368, 1.2292, 0.4714, 0.3864, 0.1309, 0.9838],\n",
      "        [4.4919, 2.1970, 0.4469, 0.5285, 0.3401, 2.4777],\n",
      "        [6.7469, 3.1648, 0.4224, 0.6705, 0.5493, 3.9716]],\n",
      "       grad_fn=<AddmmBackward0>)\n",
      "\n",
      "Output shape: torch.Size([3, 6])\n"
     ]
    }
   ],
   "source": [
    "#Messing around with Feed Forward Layers\n",
    "import torch\n",
    "\n",
    "# Since the linear layer starts with a random weights matrix, let's make it reproducible (more on this later)\n",
    "torch.manual_seed(42)\n",
    "# This uses matrix multiplication\n",
    "linear = torch.nn.Linear(in_features=2, # in_features = matches inner dimension of input \n",
    "                         out_features=6) # out_features = describes outer value \n",
    "\n",
    "tensor_A = torch.tensor([[1, 2],\n",
    "                         [3, 4],\n",
    "                         [5, 6]], dtype=torch.float32)\n",
    "\n",
    "x = tensor_A\n",
    "output = linear(x)\n",
    "print(f\"Input shape: {x.shape}\\n\")\n",
    "print(f\"Output:\\n{output}\\n\\nOutput shape: {output.shape}\")"
   ]
  },
  {
   "cell_type": "code",
   "execution_count": 19,
   "metadata": {},
   "outputs": [
    {
     "name": "stdout",
     "output_type": "stream",
     "text": [
      "Minimum: 0\n",
      "Maximum: 90\n",
      "Mean: 45.0\n",
      "Sum: 450\n",
      "tensor(90) tensor(0) tensor(45.) tensor(450)\n"
     ]
    }
   ],
   "source": [
    "#aggregation\n",
    "\n",
    "# Create a tensor\n",
    "x = torch.arange(0, 100, 10)\n",
    "\n",
    "print(f\"Minimum: {x.min()}\")\n",
    "print(f\"Maximum: {x.max()}\")\n",
    "# print(f\"Mean: {x.mean()}\") # this will error, the dtype is int64\n",
    "print(f\"Mean: {x.type(torch.float32).mean()}\") # won't work without float datatype\n",
    "print(f\"Sum: {x.sum()}\")\n",
    "\n",
    "#using torch methods works the same\n",
    "#print(torch.max(x), torch.min(x), torch.mean(x.type(torch.float32)), torch.sum(x))\n",
    "\n"
   ]
  },
  {
   "cell_type": "code",
   "execution_count": 20,
   "metadata": {},
   "outputs": [
    {
     "name": "stdout",
     "output_type": "stream",
     "text": [
      "Tensor: tensor([10, 20, 30, 40, 50, 60, 70, 80, 90])\n",
      "Index where max value occurs: 8\n",
      "Index where min value occurs: 0\n"
     ]
    }
   ],
   "source": [
    "#finding positions of maximums and minimums\n",
    "\n",
    "import torch\n",
    "\n",
    "# Create a tensor\n",
    "tensor = torch.arange(10, 100, 10)\n",
    "print(f\"Tensor: {tensor}\")\n",
    "\n",
    "# Returns index of max and min values\n",
    "print(f\"Index where max value occurs: {tensor.argmax()}\")\n",
    "print(f\"Index where min value occurs: {tensor.argmin()}\")"
   ]
  },
  {
   "cell_type": "code",
   "execution_count": 21,
   "metadata": {},
   "outputs": [
    {
     "name": "stdout",
     "output_type": "stream",
     "text": [
      "torch.float32\n",
      "tensor([10., 20., 30., 40., 50., 60., 70., 80., 90.], dtype=torch.float16)\n",
      "tensor([10, 20, 30, 40, 50, 60, 70, 80, 90], dtype=torch.int8)\n"
     ]
    }
   ],
   "source": [
    "#Tensor type errors\n",
    "\n",
    "#another type of error is running into tensors of different datatypes, you can also make the datatype less precise to make computations easier/faster(int64 -> int8)\n",
    "\n",
    "import torch\n",
    "\n",
    "# Create a tensor and check its datatype\n",
    "tensor = torch.arange(10., 100., 10.)\n",
    "print(tensor.dtype)\n",
    "\n",
    "# Create a float16 tensor\n",
    "tensor_float16 = tensor.type(torch.float16)\n",
    "print(tensor_float16)\n",
    "\n",
    "\n",
    "# Create a int8 tensor\n",
    "tensor_int8 = tensor.type(torch.int8)\n",
    "print(tensor_int8)\n"
   ]
  }
 ],
 "metadata": {
  "kernelspec": {
   "display_name": "base",
   "language": "python",
   "name": "python3"
  },
  "language_info": {
   "codemirror_mode": {
    "name": "ipython",
    "version": 3
   },
   "file_extension": ".py",
   "mimetype": "text/x-python",
   "name": "python",
   "nbconvert_exporter": "python",
   "pygments_lexer": "ipython3",
   "version": "3.9.13"
  },
  "orig_nbformat": 4
 },
 "nbformat": 4,
 "nbformat_minor": 2
}
